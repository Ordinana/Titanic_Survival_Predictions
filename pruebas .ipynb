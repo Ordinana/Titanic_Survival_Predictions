{
 "cells": [
  {
   "cell_type": "code",
   "execution_count": 16,
   "metadata": {},
   "outputs": [],
   "source": [
    "from flask import Flask, request, jsonify\n",
    "import pickle\n",
    "import datetime\n",
    "import sqlite3\n",
    "import pandas as pd\n",
    "import sklearn"
   ]
  },
  {
   "cell_type": "code",
   "execution_count": 12,
   "metadata": {},
   "outputs": [],
   "source": [
    "def init_db():\n",
    "    connection = sqlite3.connect(\"./titanic.db\") # SI ESTÁ CONECTA Y SI NO LO CREA\n",
    "    crsr = connection.cursor()\n",
    "    # Conectar a la base de datos y crear la tabla 'predictions' si no existe\n",
    "    # Completa aquí: conexión SQLite y creación de tabla con campos (inputs, prediction, timestamp)\n",
    "    query = '''\n",
    "    CREATE TABLE IF NOT EXISTS predictions (\n",
    "        pclass INTEGER,         -- Clase del pasajero (entero)\n",
    "        sex INTEGER,            -- Sexo (codificado como entero)\n",
    "        age REAL,               -- Edad (número decimal)\n",
    "        prediction INTEGER,     -- Predicción (entero)\n",
    "        timestamp TIMESTAMP     -- Marca temporal (fecha y hora)\n",
    "    );\n",
    "    '''\n",
    "    crsr.execute(query)\n",
    "\n",
    "init_db()"
   ]
  },
  {
   "cell_type": "code",
   "execution_count": 14,
   "metadata": {},
   "outputs": [
    {
     "name": "stdout",
     "output_type": "stream",
     "text": [
      "Columnas de la tabla:\n",
      "Nombre: pclass, Tipo: INTEGER\n",
      "Nombre: sex, Tipo: INTEGER\n",
      "Nombre: age, Tipo: REAL\n",
      "Nombre: prediction, Tipo: INTEGER\n",
      "Nombre: timestamp, Tipo: TIMESTAMP\n"
     ]
    }
   ],
   "source": [
    "connection = sqlite3.connect(\"./titanic.db\")\n",
    "crsr = connection.cursor()\n",
    "\n",
    "table_name = \"predictions\" \n",
    "crsr.execute(f\"PRAGMA table_info({table_name});\")\n",
    "columns = crsr.fetchall()\n",
    "\n",
    "# Mostrar información de las columnas\n",
    "print(\"Columnas de la tabla:\")\n",
    "for col in columns:\n",
    "    print(f\"Nombre: {col[1]}, Tipo: {col[2]}\")\n",
    "\n",
    "crsr.close()\n",
    "connection.close()"
   ]
  },
  {
   "cell_type": "code",
   "execution_count": 15,
   "metadata": {},
   "outputs": [],
   "source": [
    "# Cargar el modelo entrenado\n",
    "with open(\"titanic_model.pkl\", \"rb\") as f:\n",
    "    model = pickle.load(f)\n",
    "\n",
    "app = Flask(__name__)\n",
    "\n",
    "@app.route('/predict', methods=['POST'])\n",
    "def predict():\n",
    "    \"\"\"\n",
    "    Endpoint que recibe datos en formato JSON, realiza una predicción y guarda los datos en la base de datos.\n",
    "    \"\"\"\n",
    "    try:\n",
    "        data = request.json\n",
    "        # 1. Extraer los datos de entrada del JSON recibido\n",
    "        # Completa aquí: extraer valores y formatearlos para el modelo\n",
    "        pclass = data.get('Pclass')\n",
    "        sex = data.get('Sex')\n",
    "        age = data.get('Age')\n",
    "\n",
    "        # 2. Realizar predicción con el modelo\n",
    "        # Completa aquí: usa model.predict()\n",
    "        prediction = model.predict([])\n",
    "\n",
    "        # 3. Guardar en la base de datos\n",
    "        timestamp = datetime.datetime.now().isoformat()\n",
    "        # Completa aquí: inserta los datos (inputs, predicción, timestamp) en la base de datos\n",
    "\n",
    "        return jsonify({\"prediction\": int(prediction), \"timestamp\": timestamp})\n",
    "    except Exception as e:\n",
    "        return jsonify({\"error\": str(e)})"
   ]
  }
 ],
 "metadata": {
  "kernelspec": {
   "display_name": "data_analysis_env",
   "language": "python",
   "name": "python3"
  },
  "language_info": {
   "codemirror_mode": {
    "name": "ipython",
    "version": 3
   },
   "file_extension": ".py",
   "mimetype": "text/x-python",
   "name": "python",
   "nbconvert_exporter": "python",
   "pygments_lexer": "ipython3",
   "version": "3.11.10"
  }
 },
 "nbformat": 4,
 "nbformat_minor": 2
}
